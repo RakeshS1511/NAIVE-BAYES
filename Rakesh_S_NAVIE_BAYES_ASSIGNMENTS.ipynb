{
 "cells": [
  {
   "cell_type": "code",
   "execution_count": 1,
   "id": "cbee52f1",
   "metadata": {},
   "outputs": [],
   "source": [
    "import pandas as pd\n",
    "import numpy as np\n",
    "import matplotlib.pyplot as plt"
   ]
  },
  {
   "cell_type": "code",
   "execution_count": 2,
   "id": "69c9a804",
   "metadata": {},
   "outputs": [
    {
     "name": "stdout",
     "output_type": "stream",
     "text": [
      " Volume in drive C has no label.\n",
      " Volume Serial Number is A427-EC2E\n",
      "\n",
      " Directory of C:\\Users\\rakes\n",
      "\n",
      "13-05-2022  16:29    <DIR>          .\n",
      "16-12-2021  15:47    <DIR>          ..\n",
      "17-01-2022  23:33    <DIR>          .conda\n",
      "17-12-2021  00:29                25 .condarc\n",
      "17-12-2021  00:29    <DIR>          .continuum\n",
      "16-12-2021  15:08    <DIR>          .eclipse\n",
      "01-03-2022  20:17               207 .gitconfig\n",
      "13-05-2022  16:29    <DIR>          .ipynb_checkpoints\n",
      "16-12-2021  23:27    <DIR>          .ipython\n",
      "25-03-2022  13:25    <DIR>          .jupyter\n",
      "08-02-2022  11:45    <DIR>          .matplotlib\n",
      "16-12-2021  15:09    <DIR>          .p2\n",
      "16-12-2021  13:51             6,893 -1.14-windows.xml\n",
      "15-01-2022  13:39    <DIR>          3D Objects\n",
      "23-03-2022  13:36             2,436 50_Startups.csv\n",
      "30-04-2022  21:22    <DIR>          anaconda3\n",
      "01-04-2022  12:49            23,666 apple.txt\n",
      "05-02-2022  21:17           100,126 Assignment(Key) (1).docx\n",
      "14-04-2022  15:13         2,660,989 assignment_Amazon.ipynb\n",
      "14-04-2022  15:20           317,122 assignment_amazon1.ipynb\n",
      "08-03-2022  13:17           108,143 assignment1.ipynb\n",
      "08-04-2022  23:35           145,879 Association Rules.ipynb\n",
      "27-03-2022  18:00         3,751,311 bank-full.csv\n",
      "07-02-2022  20:02               116 bar_chart_data.csv\n",
      "07-02-2022  20:00            44,452 bmi_data.csv\n",
      "23-03-2022  13:41            46,094 book.csv\n",
      "23-03-2022  13:42           536,483 book1.csv\n",
      "01-03-2022  11:18                87 BuyerRatio.csv\n",
      "06-02-2022  19:58             3,529 Cars.csv\n",
      "26-02-2022  16:46            29,822 claimants.csv\n",
      "08-04-2022  23:35           208,677 Clustering.ipynb\n",
      "06-02-2022  19:58           252,761 Computer_Data.csv\n",
      "16-12-2021  15:52    <DIR>          Contacts\n",
      "01-03-2022  11:18            13,423 Costomer+OrderForm.csv\n",
      "23-03-2022  13:40             1,328 crime_data.csv\n",
      "01-03-2022  11:18               525 Cutlets.csv\n",
      "11-04-2022  23:41    <DIR>          data\n",
      "08-02-2022  20:16             5,311 data_clean.csv\n",
      "10-02-2022  21:18           175,450 DataFrames.ipynb\n",
      "25-01-2022  12:13            12,535 Datatypes.ipynb\n",
      "08-04-2022  23:35           903,007 Decisiontree_company.ipynb\n",
      "08-04-2022  23:35           199,698 Decisiontree_fraud.ipynb\n",
      "22-03-2022  12:51               218 delivery_time.csv\n",
      "25-01-2022  12:13            21,213 dictionary.ipynb\n",
      "07-02-2022  20:00               111 diet.csv\n",
      "15-12-2021  21:46    <DIR>          Documents\n",
      "13-05-2022  15:49    <DIR>          Downloads\n",
      "28-03-2022  18:55           157,170 EastWestAirlines.csv\n",
      "16-12-2021  15:08    <DIR>          eclipse\n",
      "08-02-2022  21:17           378,371 EDA_1_Latest.ipynb\n",
      "23-03-2022  13:42           170,848 Elon_musk.csv\n",
      "23-01-2022  15:48    <DIR>          excler datascience\n",
      "06-01-2022  21:05    <DIR>          Favorites\n",
      "08-04-2022  23:35           376,088 Forecasting_airline_data.ipynb\n",
      "08-04-2022  23:35           193,904 Forecasting_Cocacola.ipynb\n",
      "07-02-2022  20:02            10,202 histogram_data.csv\n",
      "08-03-2022  20:11           255,988 Hyp_Classwork.ipynb\n",
      "01-03-2022  11:48             7,649 Hypothesis _Testing_Q4.ipynb\n",
      "05-11-2019  19:44             5,278 iphone.txt\n",
      "08-04-2022  23:35           955,418 KNN Glass.ipynb\n",
      "08-04-2022  23:35           185,863 KNN Zoo.ipynb\n",
      "01-03-2022  11:18             3,487 LabTAT.csv\n",
      "16-12-2021  15:52    <DIR>          Links\n",
      "26-03-2022  17:44            37,326 Logistic Regression.ipynb\n",
      "06-02-2022  21:51            23,529 MeanMedMode.ipynb\n",
      "07-02-2022  20:03            21,222 mpg.csv\n",
      "25-03-2022  17:28           585,911 Multi Linear Regression.ipynb\n",
      "25-03-2022  19:33           543,745 multi_linear_regression.ipynb\n",
      "28-12-2021  12:32    <DIR>          Music\n",
      "23-03-2022  13:41               767 my_movies.csv\n",
      "11-04-2022  23:44            88,586 MyFeatureExt.ipynb\n",
      "10-03-2022  22:04           252,175 MyMovieSenti 2.ipynb\n",
      "08-04-2022  23:35            20,494 Naive Bayes.ipynb\n",
      "05-11-2019  19:44            44,757 negative-words.txt\n",
      "08-04-2022  23:35           299,380 Neural Network_Forestfires.ipynb\n",
      "08-04-2022  23:35           265,145 Neural Network_gas_turbines.ipynb\n",
      "24-03-2022  11:46            66,355 news_paper.ipynb\n",
      "24-03-2022  11:21             1,240 NewspaperData.csv\n",
      "13-01-2022  13:41            10,896 ney year .py\n",
      "13-05-2022  15:26    <DIR>          OneDrive\n",
      "08-04-2022  23:35           427,837 PCA Assignment.ipynb\n",
      "07-02-2022  20:03                79 pie_chart_data.csv\n",
      "28-11-2018  12:16            19,860 pipeline1.png\n",
      "05-11-2019  19:44            19,092 positive-words.txt\n",
      "10-02-2022  23:10             1,165 Probability_Zdist.ipynb\n",
      "23-03-2022  13:36               468 proble_statement(50_startups).txt\n",
      "23-03-2022  13:42                85 Problem Statement (RS).txt\n",
      "17-12-2021  00:23    <DIR>          PycharmProjects\n",
      "20-03-2022  20:59            41,231 Q1 hypothesistesting.ipynb\n",
      "20-03-2022  21:00            75,356 Q2 Hypothesis testing.ipynb\n",
      "20-03-2022  21:03            15,853 Q3 Hypothesis testing.ipynb\n",
      "20-03-2022  21:10             8,169 Q4 Hypothesis Testing .ipynb\n",
      "06-02-2022  19:58               962 Q7.csv\n",
      "06-02-2022  19:58               502 Q9_a.csv\n",
      "06-02-2022  19:58             2,420 Q9_b.csv\n",
      "19-02-2022  15:18             3,000 question1boxplot.png\n",
      "19-02-2022  15:16            63,878 Question1piechart.png\n",
      "12-04-2022  15:31           208,656 RAKESH_S_ASSOCIATION_RULES_ASSIGNMENT.ipynb\n",
      "28-03-2022  20:57           271,588 Rakesh_S_Clustring_Assignment.ipynb\n",
      "22-03-2022  12:16           560,899 Rakesh_S_Hypothesis_Testing_Assignment.ipynb\n",
      "28-03-2022  17:26           124,687 Rakesh_S_Logistic_Regression_Assignment.ipynb\n",
      "25-03-2022  19:35         2,249,662 Rakesh_S_Multi_linear_Regression_Assignment_5.ipynb\n",
      "31-03-2022  13:20           178,373 Rakesh_S_PCA_assignment.ipynb\n",
      "12-04-2022  15:42           136,138 Rakesh_S_Recommendation_System_Assignment.ipynb\n",
      "24-03-2022  18:01           171,919 Rakesh_S_Simple_linear_Regression_Assignment_4.ipynb\n",
      "25-03-2022  15:03           760,874 Rakesh_S_Simple_Linear_Regression_Assignment_4_.ipynb\n",
      "13-05-2022  16:26           690,197 Rakesh_S_Text_Mining_Assignment_Elon_Musk.ipynb\n",
      "08-04-2022  23:35           152,284 RandomForest_Company_Data.ipynb\n",
      "08-04-2022  23:35            20,471 RandomForest_Fraud_check.ipynb\n",
      "08-04-2022  23:35            20,555 Recommendation System.ipynb\n",
      "08-02-2022  21:14         1,943,256 report.html\n",
      "23-01-2022  14:42             2,126 Salaries.csv\n",
      "22-03-2022  12:51               454 Salary_Data.csv\n",
      "23-03-2022  13:43         1,694,474 SalaryData_Test.csv\n",
      "23-03-2022  13:43         3,393,618 SalaryData_Train.csv\n",
      "16-12-2021  15:52    <DIR>          Saved Games\n",
      "07-02-2022  20:03            13,793 scatter_data.csv\n",
      "10-02-2022  23:06    <DIR>          seaborn-data\n",
      "16-12-2021  15:52    <DIR>          Searches\n",
      "25-01-2022  12:12            35,319 Sequence.ipynb\n",
      "25-01-2022  12:06            36,925 Series.ipynb\n",
      "19-02-2022  15:18           100,099 Set_1_statistics_probability_assignment.ipynb\n",
      "25-03-2022  14:57           377,078 SLR2.ipynb\n",
      "28-11-2018  12:16           513,887 smsspamcollection.tsv\n",
      "09-03-2022  22:50           120,676 Spacy-Basics.ipynb\n",
      "25-01-2022  12:05            48,199 standardnormaltable.pdf\n",
      "28-11-2018  12:16             7,326 stemming1.png\n",
      "28-11-2018  12:16             7,909 stemming2.png\n",
      "23-03-2022  13:42             4,158 stop.txt\n",
      "08-04-2022  23:35            51,542 Support_Vector_Assignment_SlaryData.ipynb\n",
      "08-04-2022  23:35            26,034 Support_Vector_Machine_ForestFires.ipynb\n",
      "01-04-2022  12:54            51,354 Text Processing_Feature Extraction (1).ipynb\n",
      "08-04-2022  23:35           700,355 Text_mining_Elon_musk.ipynb\n",
      "28-11-2018  12:16            38,450 tokenization.png\n",
      "23-03-2022  13:36             1,752 Toyota Corolla.txt\n",
      "23-03-2022  13:36           224,041 ToyotaCorolla.csv\n",
      "25-01-2022  12:05            12,671 t-table.pdf\n",
      "23-01-2022  14:41               827 Universities.csv\n",
      "11-02-2022  23:15            39,135 Untitled.ipynb\n",
      "01-03-2022  11:51               588 Untitled1.ipynb\n",
      "01-04-2022  13:01             9,712 Untitled2.ipynb\n",
      "13-05-2022  16:29                72 Untitled3.ipynb\n",
      "10-02-2022  23:05             8,100 UsedCarsBar.png\n",
      "16-12-2021  15:52    <DIR>          Videos\n",
      "08-02-2022  11:47           226,222 Visualization_Matplotlib.ipynb\n",
      "10-02-2022  23:08           725,626 Visualization_Seaborn.ipynb\n",
      "24-03-2022  11:21             1,170 WC_AT.csv\n",
      "06-02-2022  19:58             1,172 wc-at.csv\n",
      "08-02-2022  21:16           969,008 weather_report.html\n",
      "23-03-2022  13:41            11,425 wine.csv\n",
      "05-02-2022  18:34         1,251,579 zdist.pdf\n",
      "             124 File(s)     33,409,823 bytes\n",
      "              27 Dir(s)  48,928,522,240 bytes free\n"
     ]
    }
   ],
   "source": [
    "ls"
   ]
  },
  {
   "cell_type": "code",
   "execution_count": 3,
   "id": "de69b18d",
   "metadata": {},
   "outputs": [],
   "source": [
    "test=pd.read_csv('SalaryData_Test.csv')\n",
    "train=pd.read_csv('SalaryData_Train.csv')"
   ]
  },
  {
   "cell_type": "code",
   "execution_count": 4,
   "id": "acfbaec8",
   "metadata": {},
   "outputs": [
    {
     "data": {
      "text/html": [
       "<div>\n",
       "<style scoped>\n",
       "    .dataframe tbody tr th:only-of-type {\n",
       "        vertical-align: middle;\n",
       "    }\n",
       "\n",
       "    .dataframe tbody tr th {\n",
       "        vertical-align: top;\n",
       "    }\n",
       "\n",
       "    .dataframe thead th {\n",
       "        text-align: right;\n",
       "    }\n",
       "</style>\n",
       "<table border=\"1\" class=\"dataframe\">\n",
       "  <thead>\n",
       "    <tr style=\"text-align: right;\">\n",
       "      <th></th>\n",
       "      <th>age</th>\n",
       "      <th>workclass</th>\n",
       "      <th>education</th>\n",
       "      <th>educationno</th>\n",
       "      <th>maritalstatus</th>\n",
       "      <th>occupation</th>\n",
       "      <th>relationship</th>\n",
       "      <th>race</th>\n",
       "      <th>sex</th>\n",
       "      <th>capitalgain</th>\n",
       "      <th>capitalloss</th>\n",
       "      <th>hoursperweek</th>\n",
       "      <th>native</th>\n",
       "      <th>Salary</th>\n",
       "    </tr>\n",
       "  </thead>\n",
       "  <tbody>\n",
       "    <tr>\n",
       "      <th>0</th>\n",
       "      <td>43</td>\n",
       "      <td>Private</td>\n",
       "      <td>Masters</td>\n",
       "      <td>14</td>\n",
       "      <td>Married-civ-spouse</td>\n",
       "      <td>Exec-managerial</td>\n",
       "      <td>Husband</td>\n",
       "      <td>White</td>\n",
       "      <td>Male</td>\n",
       "      <td>0</td>\n",
       "      <td>0</td>\n",
       "      <td>50</td>\n",
       "      <td>United-States</td>\n",
       "      <td>&gt;50K</td>\n",
       "    </tr>\n",
       "    <tr>\n",
       "      <th>1</th>\n",
       "      <td>43</td>\n",
       "      <td>Private</td>\n",
       "      <td>Masters</td>\n",
       "      <td>14</td>\n",
       "      <td>Married-civ-spouse</td>\n",
       "      <td>Exec-managerial</td>\n",
       "      <td>Husband</td>\n",
       "      <td>White</td>\n",
       "      <td>Male</td>\n",
       "      <td>0</td>\n",
       "      <td>0</td>\n",
       "      <td>50</td>\n",
       "      <td>United-States</td>\n",
       "      <td>&gt;50K</td>\n",
       "    </tr>\n",
       "    <tr>\n",
       "      <th>2</th>\n",
       "      <td>37</td>\n",
       "      <td>Private</td>\n",
       "      <td>HS-grad</td>\n",
       "      <td>9</td>\n",
       "      <td>Widowed</td>\n",
       "      <td>Machine-op-inspct</td>\n",
       "      <td>Unmarried</td>\n",
       "      <td>White</td>\n",
       "      <td>Female</td>\n",
       "      <td>0</td>\n",
       "      <td>0</td>\n",
       "      <td>20</td>\n",
       "      <td>United-States</td>\n",
       "      <td>&lt;=50K</td>\n",
       "    </tr>\n",
       "    <tr>\n",
       "      <th>3</th>\n",
       "      <td>25</td>\n",
       "      <td>Private</td>\n",
       "      <td>Bachelors</td>\n",
       "      <td>13</td>\n",
       "      <td>Married-civ-spouse</td>\n",
       "      <td>Prof-specialty</td>\n",
       "      <td>Husband</td>\n",
       "      <td>White</td>\n",
       "      <td>Male</td>\n",
       "      <td>0</td>\n",
       "      <td>0</td>\n",
       "      <td>40</td>\n",
       "      <td>United-States</td>\n",
       "      <td>&lt;=50K</td>\n",
       "    </tr>\n",
       "    <tr>\n",
       "      <th>4</th>\n",
       "      <td>25</td>\n",
       "      <td>Private</td>\n",
       "      <td>Bachelors</td>\n",
       "      <td>13</td>\n",
       "      <td>Married-civ-spouse</td>\n",
       "      <td>Prof-specialty</td>\n",
       "      <td>Husband</td>\n",
       "      <td>White</td>\n",
       "      <td>Male</td>\n",
       "      <td>0</td>\n",
       "      <td>0</td>\n",
       "      <td>40</td>\n",
       "      <td>United-States</td>\n",
       "      <td>&lt;=50K</td>\n",
       "    </tr>\n",
       "  </tbody>\n",
       "</table>\n",
       "</div>"
      ],
      "text/plain": [
       "   age workclass   education  educationno        maritalstatus  \\\n",
       "0   43   Private     Masters           14   Married-civ-spouse   \n",
       "1   43   Private     Masters           14   Married-civ-spouse   \n",
       "2   37   Private     HS-grad            9              Widowed   \n",
       "3   25   Private   Bachelors           13   Married-civ-spouse   \n",
       "4   25   Private   Bachelors           13   Married-civ-spouse   \n",
       "\n",
       "           occupation relationship    race      sex  capitalgain  capitalloss  \\\n",
       "0     Exec-managerial      Husband   White     Male            0            0   \n",
       "1     Exec-managerial      Husband   White     Male            0            0   \n",
       "2   Machine-op-inspct    Unmarried   White   Female            0            0   \n",
       "3      Prof-specialty      Husband   White     Male            0            0   \n",
       "4      Prof-specialty      Husband   White     Male            0            0   \n",
       "\n",
       "   hoursperweek          native  Salary  \n",
       "0            50   United-States    >50K  \n",
       "1            50   United-States    >50K  \n",
       "2            20   United-States   <=50K  \n",
       "3            40   United-States   <=50K  \n",
       "4            40   United-States   <=50K  "
      ]
     },
     "execution_count": 4,
     "metadata": {},
     "output_type": "execute_result"
    }
   ],
   "source": [
    "train=pd.merge(test,train)\n",
    "train.head()"
   ]
  },
  {
   "cell_type": "code",
   "execution_count": 5,
   "id": "3992d8cc",
   "metadata": {},
   "outputs": [
    {
     "name": "stdout",
     "output_type": "stream",
     "text": [
      "<class 'pandas.core.frame.DataFrame'>\n",
      "Int64Index: 5910 entries, 0 to 5909\n",
      "Data columns (total 14 columns):\n",
      " #   Column         Non-Null Count  Dtype \n",
      "---  ------         --------------  ----- \n",
      " 0   age            5910 non-null   int64 \n",
      " 1   workclass      5910 non-null   object\n",
      " 2   education      5910 non-null   object\n",
      " 3   educationno    5910 non-null   int64 \n",
      " 4   maritalstatus  5910 non-null   object\n",
      " 5   occupation     5910 non-null   object\n",
      " 6   relationship   5910 non-null   object\n",
      " 7   race           5910 non-null   object\n",
      " 8   sex            5910 non-null   object\n",
      " 9   capitalgain    5910 non-null   int64 \n",
      " 10  capitalloss    5910 non-null   int64 \n",
      " 11  hoursperweek   5910 non-null   int64 \n",
      " 12  native         5910 non-null   object\n",
      " 13  Salary         5910 non-null   object\n",
      "dtypes: int64(5), object(9)\n",
      "memory usage: 692.6+ KB\n"
     ]
    }
   ],
   "source": [
    "train.info()"
   ]
  },
  {
   "cell_type": "code",
   "execution_count": 6,
   "id": "f2ee20f6",
   "metadata": {},
   "outputs": [
    {
     "data": {
      "text/plain": [
       "array([' Private', ' Local-gov', ' Self-emp-inc', ' Federal-gov',\n",
       "       ' Self-emp-not-inc', ' State-gov'], dtype=object)"
      ]
     },
     "execution_count": 6,
     "metadata": {},
     "output_type": "execute_result"
    }
   ],
   "source": [
    "train.workclass.unique()"
   ]
  },
  {
   "cell_type": "code",
   "execution_count": 7,
   "id": "b2c7ce82",
   "metadata": {},
   "outputs": [],
   "source": [
    "from sklearn import preprocessing \n",
    "label_encoder = preprocessing.LabelEncoder() \n",
    "train['workclass']= label_encoder.fit_transform(train['workclass'])"
   ]
  },
  {
   "cell_type": "code",
   "execution_count": 8,
   "id": "70a18e40",
   "metadata": {},
   "outputs": [
    {
     "data": {
      "text/plain": [
       "array([' Masters', ' HS-grad', ' Bachelors', ' Some-college',\n",
       "       ' Assoc-voc', ' Assoc-acdm', ' 11th', ' 1st-4th', ' 7th-8th',\n",
       "       ' 10th', ' Prof-school', ' 5th-6th', ' 12th', ' Doctorate', ' 9th',\n",
       "       ' Preschool'], dtype=object)"
      ]
     },
     "execution_count": 8,
     "metadata": {},
     "output_type": "execute_result"
    }
   ],
   "source": [
    "train.education.unique()"
   ]
  },
  {
   "cell_type": "code",
   "execution_count": 9,
   "id": "b4f6ef79",
   "metadata": {},
   "outputs": [],
   "source": [
    "train['education']= label_encoder.fit_transform(train['education'])"
   ]
  },
  {
   "cell_type": "code",
   "execution_count": 10,
   "id": "c5e544d7",
   "metadata": {},
   "outputs": [
    {
     "data": {
      "text/plain": [
       "array([' Exec-managerial', ' Machine-op-inspct', ' Prof-specialty',\n",
       "       ' Adm-clerical', ' Craft-repair', ' Other-service',\n",
       "       ' Handlers-cleaners', ' Tech-support', ' Transport-moving',\n",
       "       ' Protective-serv', ' Sales', ' Farming-fishing'], dtype=object)"
      ]
     },
     "execution_count": 10,
     "metadata": {},
     "output_type": "execute_result"
    }
   ],
   "source": [
    "train.occupation.unique()"
   ]
  },
  {
   "cell_type": "code",
   "execution_count": 11,
   "id": "05ffbe8b",
   "metadata": {},
   "outputs": [],
   "source": [
    "train['occupation']= label_encoder.fit_transform(train['occupation'])"
   ]
  },
  {
   "cell_type": "code",
   "execution_count": 12,
   "id": "e4162d75",
   "metadata": {},
   "outputs": [
    {
     "data": {
      "text/plain": [
       "array([' Husband', ' Unmarried', ' Own-child', ' Not-in-family', ' Wife',\n",
       "       ' Other-relative'], dtype=object)"
      ]
     },
     "execution_count": 12,
     "metadata": {},
     "output_type": "execute_result"
    }
   ],
   "source": [
    "train.relationship.unique()"
   ]
  },
  {
   "cell_type": "code",
   "execution_count": 13,
   "id": "3fe69370",
   "metadata": {},
   "outputs": [],
   "source": [
    "train['relationship']= label_encoder.fit_transform(train['relationship'])"
   ]
  },
  {
   "cell_type": "code",
   "execution_count": 14,
   "id": "527e51d1",
   "metadata": {},
   "outputs": [
    {
     "data": {
      "text/plain": [
       "array([' White', ' Black', ' Asian-Pac-Islander'], dtype=object)"
      ]
     },
     "execution_count": 14,
     "metadata": {},
     "output_type": "execute_result"
    }
   ],
   "source": [
    "train.race.unique()"
   ]
  },
  {
   "cell_type": "code",
   "execution_count": 15,
   "id": "c918767e",
   "metadata": {},
   "outputs": [],
   "source": [
    "train['race']= label_encoder.fit_transform(train['race'])"
   ]
  },
  {
   "cell_type": "code",
   "execution_count": 16,
   "id": "faa1ef81",
   "metadata": {},
   "outputs": [
    {
     "data": {
      "text/plain": [
       "array([' Male', ' Female'], dtype=object)"
      ]
     },
     "execution_count": 16,
     "metadata": {},
     "output_type": "execute_result"
    }
   ],
   "source": [
    "train.sex.unique()"
   ]
  },
  {
   "cell_type": "code",
   "execution_count": 17,
   "id": "1c631162",
   "metadata": {},
   "outputs": [],
   "source": [
    "train['sex']=label_encoder.fit_transform(train['sex'])"
   ]
  },
  {
   "cell_type": "code",
   "execution_count": 18,
   "id": "594f3dd3",
   "metadata": {},
   "outputs": [
    {
     "data": {
      "text/plain": [
       "array([' United-States', ' Mexico', ' Jamaica', ' Philippines'],\n",
       "      dtype=object)"
      ]
     },
     "execution_count": 18,
     "metadata": {},
     "output_type": "execute_result"
    }
   ],
   "source": [
    "train.native.unique()"
   ]
  },
  {
   "cell_type": "code",
   "execution_count": 19,
   "id": "1c2fb79f",
   "metadata": {},
   "outputs": [],
   "source": [
    "train['native']=label_encoder.fit_transform(train['native'])"
   ]
  },
  {
   "cell_type": "code",
   "execution_count": 20,
   "id": "bd9d435d",
   "metadata": {},
   "outputs": [
    {
     "data": {
      "text/plain": [
       "array([' Married-civ-spouse', ' Widowed', ' Never-married', ' Divorced',\n",
       "       ' Separated'], dtype=object)"
      ]
     },
     "execution_count": 20,
     "metadata": {},
     "output_type": "execute_result"
    }
   ],
   "source": [
    "train.maritalstatus.unique()"
   ]
  },
  {
   "cell_type": "code",
   "execution_count": 21,
   "id": "ba12a258",
   "metadata": {},
   "outputs": [],
   "source": [
    "train['maritalstatus']=label_encoder.fit_transform(train['maritalstatus'])"
   ]
  },
  {
   "cell_type": "code",
   "execution_count": 22,
   "id": "89d11a07",
   "metadata": {},
   "outputs": [
    {
     "data": {
      "text/html": [
       "<div>\n",
       "<style scoped>\n",
       "    .dataframe tbody tr th:only-of-type {\n",
       "        vertical-align: middle;\n",
       "    }\n",
       "\n",
       "    .dataframe tbody tr th {\n",
       "        vertical-align: top;\n",
       "    }\n",
       "\n",
       "    .dataframe thead th {\n",
       "        text-align: right;\n",
       "    }\n",
       "</style>\n",
       "<table border=\"1\" class=\"dataframe\">\n",
       "  <thead>\n",
       "    <tr style=\"text-align: right;\">\n",
       "      <th></th>\n",
       "      <th>age</th>\n",
       "      <th>workclass</th>\n",
       "      <th>education</th>\n",
       "      <th>educationno</th>\n",
       "      <th>maritalstatus</th>\n",
       "      <th>occupation</th>\n",
       "      <th>relationship</th>\n",
       "      <th>race</th>\n",
       "      <th>sex</th>\n",
       "      <th>capitalgain</th>\n",
       "      <th>capitalloss</th>\n",
       "      <th>hoursperweek</th>\n",
       "      <th>native</th>\n",
       "      <th>Salary</th>\n",
       "    </tr>\n",
       "  </thead>\n",
       "  <tbody>\n",
       "    <tr>\n",
       "      <th>0</th>\n",
       "      <td>43</td>\n",
       "      <td>2</td>\n",
       "      <td>12</td>\n",
       "      <td>14</td>\n",
       "      <td>1</td>\n",
       "      <td>2</td>\n",
       "      <td>0</td>\n",
       "      <td>2</td>\n",
       "      <td>1</td>\n",
       "      <td>0</td>\n",
       "      <td>0</td>\n",
       "      <td>50</td>\n",
       "      <td>3</td>\n",
       "      <td>&gt;50K</td>\n",
       "    </tr>\n",
       "    <tr>\n",
       "      <th>1</th>\n",
       "      <td>43</td>\n",
       "      <td>2</td>\n",
       "      <td>12</td>\n",
       "      <td>14</td>\n",
       "      <td>1</td>\n",
       "      <td>2</td>\n",
       "      <td>0</td>\n",
       "      <td>2</td>\n",
       "      <td>1</td>\n",
       "      <td>0</td>\n",
       "      <td>0</td>\n",
       "      <td>50</td>\n",
       "      <td>3</td>\n",
       "      <td>&gt;50K</td>\n",
       "    </tr>\n",
       "  </tbody>\n",
       "</table>\n",
       "</div>"
      ],
      "text/plain": [
       "   age  workclass  education  educationno  maritalstatus  occupation  \\\n",
       "0   43          2         12           14              1           2   \n",
       "1   43          2         12           14              1           2   \n",
       "\n",
       "   relationship  race  sex  capitalgain  capitalloss  hoursperweek  native  \\\n",
       "0             0     2    1            0            0            50       3   \n",
       "1             0     2    1            0            0            50       3   \n",
       "\n",
       "  Salary  \n",
       "0   >50K  \n",
       "1   >50K  "
      ]
     },
     "execution_count": 22,
     "metadata": {},
     "output_type": "execute_result"
    }
   ],
   "source": [
    "train.head(2)"
   ]
  },
  {
   "cell_type": "code",
   "execution_count": 23,
   "id": "96cc320a",
   "metadata": {},
   "outputs": [
    {
     "data": {
      "text/plain": [
       "age               int64\n",
       "workclass         int32\n",
       "education         int32\n",
       "educationno       int64\n",
       "maritalstatus     int32\n",
       "occupation        int32\n",
       "relationship      int32\n",
       "race              int32\n",
       "sex               int32\n",
       "capitalgain       int64\n",
       "capitalloss       int64\n",
       "hoursperweek      int64\n",
       "native            int32\n",
       "Salary           object\n",
       "dtype: object"
      ]
     },
     "execution_count": 23,
     "metadata": {},
     "output_type": "execute_result"
    }
   ],
   "source": [
    "train.dtypes"
   ]
  },
  {
   "cell_type": "code",
   "execution_count": 24,
   "id": "fcdd6ae2",
   "metadata": {},
   "outputs": [],
   "source": [
    "from sklearn.model_selection import train_test_split\n",
    "X_train, X_test = train_test_split(train, test_size = 0.25, random_state = 0)"
   ]
  },
  {
   "cell_type": "code",
   "execution_count": 25,
   "id": "e7b9e11d",
   "metadata": {},
   "outputs": [],
   "source": [
    "X_train = X_train.iloc[:,:-1]\n",
    "y_train = X_train.iloc[:,-1]\n",
    "X_test =  X_test.iloc[:,:-1]\n",
    "y_test = X_test.iloc[:,-1]"
   ]
  },
  {
   "cell_type": "code",
   "execution_count": 26,
   "id": "05b87d0f",
   "metadata": {},
   "outputs": [],
   "source": [
    "# Feature Scaling\n",
    "from sklearn.preprocessing import StandardScaler\n",
    "sc = StandardScaler()\n",
    "X_train = sc.fit_transform(X_train)\n",
    "X_test = sc.transform(X_test)"
   ]
  },
  {
   "cell_type": "code",
   "execution_count": 27,
   "id": "1c9e0e77",
   "metadata": {},
   "outputs": [],
   "source": [
    "from sklearn.naive_bayes import GaussianNB\n",
    "from sklearn.naive_bayes import MultinomialNB\n",
    "from sklearn.metrics import confusion_matrix"
   ]
  },
  {
   "cell_type": "code",
   "execution_count": 33,
   "id": "8247f423",
   "metadata": {},
   "outputs": [],
   "source": [
    "ignb = GaussianNB()"
   ]
  },
  {
   "cell_type": "code",
   "execution_count": 34,
   "id": "a763a3ef",
   "metadata": {},
   "outputs": [],
   "source": [
    "pred_gnb = ignb.fit(X_train,y_train).predict(X_test)"
   ]
  },
  {
   "cell_type": "code",
   "execution_count": 35,
   "id": "e9e31923",
   "metadata": {},
   "outputs": [
    {
     "data": {
      "text/plain": [
       "1.0"
      ]
     },
     "execution_count": 35,
     "metadata": {},
     "output_type": "execute_result"
    }
   ],
   "source": [
    "# Confusion matrix GaussianNB model\n",
    "confusion_matrix(y_test,pred_gnb) # GaussianNB model\n",
    "pd.crosstab(y_test.values.flatten(),pred_gnb) # confusion matrix using \n",
    "np.mean(pred_gnb==y_test.values.flatten())"
   ]
  },
  {
   "cell_type": "code",
   "execution_count": null,
   "id": "95072eec",
   "metadata": {},
   "outputs": [],
   "source": []
  },
  {
   "cell_type": "code",
   "execution_count": null,
   "id": "6292085c",
   "metadata": {},
   "outputs": [],
   "source": []
  },
  {
   "cell_type": "code",
   "execution_count": null,
   "id": "f6de6b51",
   "metadata": {},
   "outputs": [],
   "source": []
  },
  {
   "cell_type": "code",
   "execution_count": null,
   "id": "ace296af",
   "metadata": {},
   "outputs": [],
   "source": []
  },
  {
   "cell_type": "code",
   "execution_count": null,
   "id": "f1e9a5d5",
   "metadata": {},
   "outputs": [],
   "source": []
  }
 ],
 "metadata": {
  "kernelspec": {
   "display_name": "Python 3 (ipykernel)",
   "language": "python",
   "name": "python3"
  },
  "language_info": {
   "codemirror_mode": {
    "name": "ipython",
    "version": 3
   },
   "file_extension": ".py",
   "mimetype": "text/x-python",
   "name": "python",
   "nbconvert_exporter": "python",
   "pygments_lexer": "ipython3",
   "version": "3.9.7"
  }
 },
 "nbformat": 4,
 "nbformat_minor": 5
}
